{
 "cells": [
  {
   "cell_type": "markdown",
   "metadata": {},
   "source": [
    "# Sentiment Analysis with a Metamodel (CNN, CNN + GloVe, GRU, GRU + GloVe)\n",
    "\n",
    "In this notebook is intended to show how now that we have four decent and diverse models, we can combine them, just averaging their results, in order to get a much better metamodel."
   ]
  },
  {
   "cell_type": "markdown",
   "metadata": {},
   "source": [
    "---\n",
    "# IMPORTS\n",
    "Let's import the modules we will use"
   ]
  },
  {
   "cell_type": "code",
   "execution_count": 1,
   "metadata": {},
   "outputs": [],
   "source": [
    "import os\n",
    "import pickle\n",
    "import numpy as np\n",
    "\n",
    "\n",
    "import pandas as pd\n",
    "from sklearn.metrics import confusion_matrix as cm\n",
    "from sklearn.metrics import accuracy_score, precision_score, recall_score, f1_score, precision_recall_curve,log_loss\n",
    "import matplotlib.pyplot as plt\n",
    "import seaborn as sns"
   ]
  },
  {
   "cell_type": "code",
   "execution_count": 2,
   "metadata": {},
   "outputs": [],
   "source": [
    "%matplotlib inline\n",
    "plt.style.use('seaborn')"
   ]
  },
  {
   "cell_type": "markdown",
   "metadata": {},
   "source": [
    "---\n",
    "# LOAD THE DATA\n",
    "We will load the test labels, the star rank of the test reviews, and the probabilities for the test set predicted by our four models.\n"
   ]
  },
  {
   "cell_type": "code",
   "execution_count": 3,
   "metadata": {},
   "outputs": [],
   "source": [
    "#Load the test labels\n",
    "with open('test_y.pkl','rb') as f:\n",
    "    test_y = pickle.load(f)\n",
    "#Load the stars of each review\n",
    "with open('test_stars.pkl','rb') as f:\n",
    "    test_stars = pickle.load(f)"
   ]
  },
  {
   "cell_type": "code",
   "execution_count": 4,
   "metadata": {},
   "outputs": [],
   "source": [
    "#Load test_probas:\n",
    "#GloVe_CNN\n",
    "with open('GloVe_CNN_probas.pkl','rb') as f:\n",
    "    GloVe_CNN_probas = pickle.load(f)\n",
    "#Simple_CNN\n",
    "with open('Simple_CNN_probas.pkl','rb') as f:\n",
    "    Simple_CNN_probas = pickle.load(f)\n",
    "#GloVe_GRU\n",
    "with open('GloVe_GRU_probas.pkl','rb') as f:\n",
    "    GloVe_GRU_probas = pickle.load(f)\n",
    "#Simple_GRU\n",
    "with open('Simple_GRU_probas.pkl','rb') as f:\n",
    "    Simple_GRU_probas = pickle.load(f)"
   ]
  },
  {
   "cell_type": "markdown",
   "metadata": {},
   "source": [
    "---\n",
    "# HOW DID THE MODEL PERFORMED?\n",
    "Let's print as summary how the models performed on the test set\n"
   ]
  },
  {
   "cell_type": "code",
   "execution_count": 5,
   "metadata": {},
   "outputs": [
    {
     "name": "stdout",
     "output_type": "stream",
     "text": [
      "Simple CNN ::\n",
      "Loss: 0.3244\tAccuracy:0.8609\n",
      "Simple GRU ::\n",
      "Loss: 0.3043\tAccuracy:0.8724\n",
      "GloVe CNN ::\n",
      "Loss: 0.2846\tAccuracy:0.8797\n",
      "GloVe GRU ::\n",
      "Loss: 0.2625\tAccuracy:0.8906\n"
     ]
    }
   ],
   "source": [
    "for name,probas in zip(['Simple CNN', 'Simple GRU', 'GloVe CNN', 'GloVe GRU'],\n",
    "                       [Simple_CNN_probas,Simple_GRU_probas,GloVe_CNN_probas, GloVe_GRU_probas]):\n",
    "    print(name,'::')\n",
    "    print(f'Loss: {log_loss(y_pred=probas,y_true=test_y):.4f}\\tAccuracy:{accuracy_score(y_pred=(probas>=0.5),y_true=test_y):.4f}')\n",
    "    "
   ]
  },
  {
   "cell_type": "markdown",
   "metadata": {},
   "source": [
    "---\n",
    "# COMBINING THE FOUR MODELS INTO A METAMODEL\n",
    "Let's explore how the predictions improve by considering the average of the four models"
   ]
  },
  {
   "cell_type": "code",
   "execution_count": 6,
   "metadata": {},
   "outputs": [
    {
     "name": "stdout",
     "output_type": "stream",
     "text": [
      "Loss: 0.2079\tAccuracy:0.9716\n"
     ]
    }
   ],
   "source": [
    "#Four models average\n",
    "four_probas = (Simple_CNN_probas + Simple_GRU_probas + GloVe_CNN_probas + GloVe_GRU_probas)/4\n",
    "print(f'Loss: {log_loss(y_pred=four_probas,y_true=test_y):.4f}\\tAccuracy:{accuracy_score(y_pred=(four_probas>=0.5),y_true=test_y):.4f}')"
   ]
  },
  {
   "cell_type": "markdown",
   "metadata": {},
   "source": [
    "The accuracy is boosted 8 points compare to the best model of the mix and 11 points compare to the worst model of the mix! "
   ]
  },
  {
   "cell_type": "code",
   "execution_count": 7,
   "metadata": {},
   "outputs": [
    {
     "data": {
      "text/html": [
       "<div>\n",
       "<style scoped>\n",
       "    .dataframe tbody tr th:only-of-type {\n",
       "        vertical-align: middle;\n",
       "    }\n",
       "\n",
       "    .dataframe tbody tr th {\n",
       "        vertical-align: top;\n",
       "    }\n",
       "\n",
       "    .dataframe thead th {\n",
       "        text-align: right;\n",
       "    }\n",
       "</style>\n",
       "<table border=\"1\" class=\"dataframe\">\n",
       "  <thead>\n",
       "    <tr style=\"text-align: right;\">\n",
       "      <th></th>\n",
       "      <th>Pred_1</th>\n",
       "      <th>Pred_0</th>\n",
       "    </tr>\n",
       "  </thead>\n",
       "  <tbody>\n",
       "    <tr>\n",
       "      <th>Label_1</th>\n",
       "      <td>12201</td>\n",
       "      <td>299</td>\n",
       "    </tr>\n",
       "    <tr>\n",
       "      <th>Label_0</th>\n",
       "      <td>412</td>\n",
       "      <td>12088</td>\n",
       "    </tr>\n",
       "  </tbody>\n",
       "</table>\n",
       "</div>"
      ],
      "text/plain": [
       "         Pred_1  Pred_0\n",
       "Label_1   12201     299\n",
       "Label_0     412   12088"
      ]
     },
     "execution_count": 7,
     "metadata": {},
     "output_type": "execute_result"
    }
   ],
   "source": [
    "test_cm = pd.DataFrame(cm(test_y, four_probas>=0.5, labels=[1,0]), index=['Label_1', 'Label_0'], columns=['Pred_1','Pred_0'] )\n",
    "test_cm"
   ]
  },
  {
   "cell_type": "markdown",
   "metadata": {},
   "source": [
    "Most of the errors come from negative reviews misclasified as positive reviews"
   ]
  },
  {
   "cell_type": "code",
   "execution_count": 8,
   "metadata": {},
   "outputs": [
    {
     "name": "stdout",
     "output_type": "stream",
     "text": [
      "Accuracy of the model: 0.9716\n",
      "Precision of the model for positive reviews: 0.9673\n",
      "Recall of the model for positive reviews: 0.9761\n",
      "f1-score of the model for positive reviews: 0.9717\n"
     ]
    }
   ],
   "source": [
    "print(f'Accuracy of the model: {accuracy_score(test_y, four_probas>=0.5):.4f}')\n",
    "print(f'Precision of the model for positive reviews: {precision_score(test_y, four_probas>=0.5, pos_label=1):.4f}')\n",
    "print(f'Recall of the model for positive reviews: {recall_score(test_y, four_probas>=0.5, pos_label=1):.4f}')\n",
    "print(f'f1-score of the model for positive reviews: {f1_score(test_y, four_probas>=0.5, pos_label=1):.4f}')"
   ]
  },
  {
   "cell_type": "code",
   "execution_count": 9,
   "metadata": {},
   "outputs": [
    {
     "name": "stdout",
     "output_type": "stream",
     "text": [
      "Accuracy of the model: 0.9716\n",
      "Precision of the model for negative reviews: 0.9759\n",
      "Recall of the model for negative reviews: 0.9670\n",
      "f1-score of the model for negative reviews: 0.9714\n"
     ]
    }
   ],
   "source": [
    "print(f'Accuracy of the model: {accuracy_score(test_y, four_probas>=0.5):.4f}')\n",
    "print(f'Precision of the model for negative reviews: {precision_score(test_y, four_probas>=0.5, pos_label=0):.4f}')\n",
    "print(f'Recall of the model for negative reviews: {recall_score(test_y, four_probas>=0.5, pos_label=0):.4f}')\n",
    "print(f'f1-score of the model for negative reviews: {f1_score(test_y, four_probas>=0.5, pos_label=0):.4f}')"
   ]
  },
  {
   "cell_type": "code",
   "execution_count": 10,
   "metadata": {},
   "outputs": [],
   "source": [
    "#Positive reviews\n",
    "pos_pre_rec = pd.DataFrame({name: values for values, name in \n",
    "                            zip(precision_recall_curve(test_y, four_probas, pos_label=1)[:2],['precision','recall'])})\n",
    "#Negative reviews\n",
    "neg_pre_rec = pd.DataFrame({name: values for values, name in \n",
    "                            zip(precision_recall_curve(test_y, 1-four_probas, pos_label=0)[:2],['precision','recall'])})"
   ]
  },
  {
   "cell_type": "code",
   "execution_count": 11,
   "metadata": {},
   "outputs": [
    {
     "name": "stderr",
     "output_type": "stream",
     "text": [
      "C:\\Users\\Adrian\\Anaconda3\\envs\\my-pytorch-env\\lib\\site-packages\\scipy\\stats\\stats.py:1713: FutureWarning: Using a non-tuple sequence for multidimensional indexing is deprecated; use `arr[tuple(seq)]` instead of `arr[seq]`. In the future this will be interpreted as an array index, `arr[np.array(seq)]`, which will result either in an error or a different result.\n",
      "  return np.add.reduce(sorted[indexer] * weights, axis=axis) / sumval\n"
     ]
    },
    {
     "data": {
      "image/png": "[encoded data removed]",
      "text/plain": [
       "<Figure size 720x360 with 2 Axes>"
      ]
     },
     "metadata": {},
     "output_type": "display_data"
    }
   ],
   "source": [
    "plt.figure(num=1,figsize=(10,5))\n",
    "#Positive reviews\n",
    "ax = plt.subplot(1,2,1) \n",
    "sns.lineplot(x='recall',y='precision',data=pos_pre_rec,ax=ax,color='green', alpha=0.5)\n",
    "plt.fill_between(pos_pre_rec.recall.values, pos_pre_rec.precision.values, color='green', alpha=0.3)\n",
    "plt.title('Positive Class')\n",
    "plt.xlim(0,1)\n",
    "plt.ylim(0,1)\n",
    "#Negative reviews\n",
    "ax = plt.subplot(1,2,2) \n",
    "sns.lineplot(x='recall',y='precision',data=neg_pre_rec,ax=ax,color='red', alpha=0.5)\n",
    "plt.fill_between(neg_pre_rec.recall.values, neg_pre_rec.precision.values, color='red', alpha=0.3)\n",
    "plt.title('Negative Class')\n",
    "plt.xlim(0,1)\n",
    "plt.ylim(0,1);"
   ]
  },
  {
   "cell_type": "markdown",
   "metadata": {},
   "source": [
    "Awesome looking curves! It looks that the metamodel is able to recover more than 80% of the positive/negative reviews with nearly 100% of precision"
   ]
  },
  {
   "cell_type": "code",
   "execution_count": 12,
   "metadata": {},
   "outputs": [
    {
     "data": {
      "text/html": [
       "<div>\n",
       "<style scoped>\n",
       "    .dataframe tbody tr th:only-of-type {\n",
       "        vertical-align: middle;\n",
       "    }\n",
       "\n",
       "    .dataframe tbody tr th {\n",
       "        vertical-align: top;\n",
       "    }\n",
       "\n",
       "    .dataframe thead th {\n",
       "        text-align: right;\n",
       "    }\n",
       "</style>\n",
       "<table border=\"1\" class=\"dataframe\">\n",
       "  <thead>\n",
       "    <tr style=\"text-align: right;\">\n",
       "      <th></th>\n",
       "      <th>Stars</th>\n",
       "      <th>Avg Prob</th>\n",
       "      <th>Pos Revs</th>\n",
       "    </tr>\n",
       "  </thead>\n",
       "  <tbody>\n",
       "    <tr>\n",
       "      <th>0</th>\n",
       "      <td>1</td>\n",
       "      <td>0.177621</td>\n",
       "      <td>3.365193</td>\n",
       "    </tr>\n",
       "    <tr>\n",
       "      <th>1</th>\n",
       "      <td>2</td>\n",
       "      <td>0.184339</td>\n",
       "      <td>3.258036</td>\n",
       "    </tr>\n",
       "    <tr>\n",
       "      <th>2</th>\n",
       "      <td>3</td>\n",
       "      <td>0.180723</td>\n",
       "      <td>3.541913</td>\n",
       "    </tr>\n",
       "    <tr>\n",
       "      <th>3</th>\n",
       "      <td>4</td>\n",
       "      <td>0.178628</td>\n",
       "      <td>2.960152</td>\n",
       "    </tr>\n",
       "    <tr>\n",
       "      <th>4</th>\n",
       "      <td>7</td>\n",
       "      <td>0.833681</td>\n",
       "      <td>97.312527</td>\n",
       "    </tr>\n",
       "    <tr>\n",
       "      <th>5</th>\n",
       "      <td>8</td>\n",
       "      <td>0.829841</td>\n",
       "      <td>97.263158</td>\n",
       "    </tr>\n",
       "    <tr>\n",
       "      <th>6</th>\n",
       "      <td>9</td>\n",
       "      <td>0.829971</td>\n",
       "      <td>97.696246</td>\n",
       "    </tr>\n",
       "    <tr>\n",
       "      <th>7</th>\n",
       "      <td>10</td>\n",
       "      <td>0.835320</td>\n",
       "      <td>97.899580</td>\n",
       "    </tr>\n",
       "  </tbody>\n",
       "</table>\n",
       "</div>"
      ],
      "text/plain": [
       "   Stars  Avg Prob   Pos Revs\n",
       "0      1  0.177621   3.365193\n",
       "1      2  0.184339   3.258036\n",
       "2      3  0.180723   3.541913\n",
       "3      4  0.178628   2.960152\n",
       "4      7  0.833681  97.312527\n",
       "5      8  0.829841  97.263158\n",
       "6      9  0.829971  97.696246\n",
       "7     10  0.835320  97.899580"
      ]
     },
     "execution_count": 12,
     "metadata": {},
     "output_type": "execute_result"
    }
   ],
   "source": [
    "stars = np.unique(test_stars)\n",
    "stars.sort()\n",
    "my_df={'Stars': stars, \n",
    "       'Avg Prob':[four_probas[test_stars==i].mean() for i in stars],\n",
    "      'Pos Revs': [(four_probas[test_stars==i]>=0.5).mean()*100 for i in stars]}\n",
    "\n",
    "my_df = pd.DataFrame(my_df)\n",
    "my_df"
   ]
  },
  {
   "cell_type": "code",
   "execution_count": 13,
   "metadata": {},
   "outputs": [
    {
     "data": {
      "image/png": "[encoded data removed]",
      "text/plain": [
       "<Figure size 360x360 with 1 Axes>"
      ]
     },
     "metadata": {},
     "output_type": "display_data"
    }
   ],
   "source": [
    "plt.figure(num=2,figsize=(5,5))\n",
    "sns.barplot(x='Stars',y='Avg Prob',data=my_df)\n",
    "plt.title('Average Probability of Being Positive')\n",
    "plt.ylim(0,1);"
   ]
  },
  {
   "cell_type": "code",
   "execution_count": 14,
   "metadata": {},
   "outputs": [
    {
     "data": {
      "image/png": "[encoded data removed]",
      "text/plain": [
       "<Figure size 360x360 with 1 Axes>"
      ]
     },
     "metadata": {},
     "output_type": "display_data"
    }
   ],
   "source": [
    "plt.figure(num=3,figsize=(5,5))\n",
    "sns.barplot(x='Stars',y='Pos Revs',data=my_df)\n",
    "plt.title('Percentage of Predicted Positive Reviews')\n",
    "plt.ylim(0,100);"
   ]
  },
  {
   "cell_type": "markdown",
   "metadata": {},
   "source": [
    "It is very interesting that the metamodel seems to perform equally well for each group of reviews (2-4 % of error)"
   ]
  },
  {
   "cell_type": "markdown",
   "metadata": {},
   "source": [
    "---\n",
    "# OTHER METAMODELS\n",
    "Almost all of them produce accuracies over 90%"
   ]
  },
  {
   "cell_type": "code",
   "execution_count": 15,
   "metadata": {},
   "outputs": [
    {
     "name": "stdout",
     "output_type": "stream",
     "text": [
      "Loss: 0.2726\tAccuracy:0.8897\n"
     ]
    }
   ],
   "source": [
    "#Two CNN models average\n",
    "new_probas = (Simple_CNN_probas + GloVe_CNN_probas )/2\n",
    "print(f'Loss: {log_loss(y_pred=new_probas,y_true=test_y):.4f}\\tAccuracy:{accuracy_score(y_pred=(new_probas>=0.5),y_true=test_y):.4f}')"
   ]
  },
  {
   "cell_type": "code",
   "execution_count": 16,
   "metadata": {},
   "outputs": [
    {
     "name": "stdout",
     "output_type": "stream",
     "text": [
      "Loss: 0.2081\tAccuracy:0.9513\n"
     ]
    }
   ],
   "source": [
    "#Two GRU models average\n",
    "new_probas = (Simple_GRU_probas + GloVe_GRU_probas )/2\n",
    "print(f'Loss: {log_loss(y_pred=new_probas,y_true=test_y):.4f}\\tAccuracy:{accuracy_score(y_pred=(new_probas>=0.5),y_true=test_y):.4f}')"
   ]
  },
  {
   "cell_type": "code",
   "execution_count": 17,
   "metadata": {},
   "outputs": [
    {
     "name": "stdout",
     "output_type": "stream",
     "text": [
      "Loss: 0.2051\tAccuracy:0.9532\n"
     ]
    }
   ],
   "source": [
    "#Two GloVe models average\n",
    "new_probas = (GloVe_CNN_probas + GloVe_GRU_probas )/2\n",
    "print(f'Loss: {log_loss(y_pred=new_probas,y_true=test_y):.4f}\\tAccuracy:{accuracy_score(y_pred=(new_probas>=0.5),y_true=test_y):.4f}')"
   ]
  },
  {
   "cell_type": "code",
   "execution_count": 18,
   "metadata": {},
   "outputs": [
    {
     "name": "stdout",
     "output_type": "stream",
     "text": [
      "Loss: 0.2368\tAccuracy:0.9406\n"
     ]
    }
   ],
   "source": [
    "#Two simple models average\n",
    "new_probas = (Simple_CNN_probas + Simple_GRU_probas )/2\n",
    "print(f'Loss: {log_loss(y_pred=new_probas,y_true=test_y):.4f}\\tAccuracy:{accuracy_score(y_pred=(new_probas>=0.5),y_true=test_y):.4f}')"
   ]
  },
  {
   "cell_type": "code",
   "execution_count": 19,
   "metadata": {},
   "outputs": [
    {
     "name": "stdout",
     "output_type": "stream",
     "text": [
      "Loss: 0.2235\tAccuracy:0.9467\n"
     ]
    }
   ],
   "source": [
    "#Simple GRU + GloVe CNN\n",
    "new_probas = (GloVe_CNN_probas + Simple_GRU_probas )/2\n",
    "print(f'Loss: {log_loss(y_pred=new_probas,y_true=test_y):.4f}\\tAccuracy:{accuracy_score(y_pred=(new_probas>=0.5),y_true=test_y):.4f}')"
   ]
  },
  {
   "cell_type": "code",
   "execution_count": 20,
   "metadata": {},
   "outputs": [
    {
     "name": "stdout",
     "output_type": "stream",
     "text": [
      "Loss: 0.2186\tAccuracy:0.9470\n"
     ]
    }
   ],
   "source": [
    "#GloVe GRU + Simple CNN\n",
    "new_probas = (Simple_CNN_probas + GloVe_GRU_probas )/2\n",
    "print(f'Loss: {log_loss(y_pred=new_probas,y_true=test_y):.4f}\\tAccuracy:{accuracy_score(y_pred=(new_probas>=0.5),y_true=test_y):.4f}')"
   ]
  },
  {
   "cell_type": "markdown",
   "metadata": {},
   "source": [
    "FUN FACT: Using only the three best moles provides the best performance"
   ]
  },
  {
   "cell_type": "code",
   "execution_count": 21,
   "metadata": {},
   "outputs": [
    {
     "name": "stdout",
     "output_type": "stream",
     "text": [
      "Loss: 0.1999\tAccuracy:0.9731\n"
     ]
    }
   ],
   "source": [
    "#Best Three: GloVe GRU + Simple GRU + GloVe CNN\n",
    "three_probas = (GloVe_CNN_probas + GloVe_GRU_probas + Simple_GRU_probas)/3\n",
    "print(f'Loss: {log_loss(y_pred=three_probas,y_true=test_y):.4f}\\tAccuracy:{accuracy_score(y_pred=(three_probas>=0.5),y_true=test_y):.4f}')"
   ]
  },
  {
   "cell_type": "code",
   "execution_count": 22,
   "metadata": {},
   "outputs": [
    {
     "data": {
      "text/html": [
       "<div>\n",
       "<style scoped>\n",
       "    .dataframe tbody tr th:only-of-type {\n",
       "        vertical-align: middle;\n",
       "    }\n",
       "\n",
       "    .dataframe tbody tr th {\n",
       "        vertical-align: top;\n",
       "    }\n",
       "\n",
       "    .dataframe thead th {\n",
       "        text-align: right;\n",
       "    }\n",
       "</style>\n",
       "<table border=\"1\" class=\"dataframe\">\n",
       "  <thead>\n",
       "    <tr style=\"text-align: right;\">\n",
       "      <th></th>\n",
       "      <th>Pred_1</th>\n",
       "      <th>Pred_0</th>\n",
       "    </tr>\n",
       "  </thead>\n",
       "  <tbody>\n",
       "    <tr>\n",
       "      <th>Label_1</th>\n",
       "      <td>11881</td>\n",
       "      <td>619</td>\n",
       "    </tr>\n",
       "    <tr>\n",
       "      <th>Label_0</th>\n",
       "      <td>707</td>\n",
       "      <td>11793</td>\n",
       "    </tr>\n",
       "  </tbody>\n",
       "</table>\n",
       "</div>"
      ],
      "text/plain": [
       "         Pred_1  Pred_0\n",
       "Label_1   11881     619\n",
       "Label_0     707   11793"
      ]
     },
     "execution_count": 22,
     "metadata": {},
     "output_type": "execute_result"
    }
   ],
   "source": [
    "test_cm = pd.DataFrame(cm(test_y, new_probas>=0.5, labels=[1,0]), index=['Label_1', 'Label_0'], columns=['Pred_1','Pred_0'] )\n",
    "test_cm"
   ]
  },
  {
   "cell_type": "code",
   "execution_count": 23,
   "metadata": {},
   "outputs": [
    {
     "name": "stdout",
     "output_type": "stream",
     "text": [
      "Accuracy of the model: 0.9731\n",
      "Precision of the model for positive reviews: 0.9680\n",
      "Recall of the model for positive reviews: 0.9786\n",
      "f1-score of the model for positive reviews: 0.9732\n"
     ]
    }
   ],
   "source": [
    "print(f'Accuracy of the model: {accuracy_score(test_y, three_probas>=0.5):.4f}')\n",
    "print(f'Precision of the model for positive reviews: {precision_score(test_y, three_probas>=0.5, pos_label=1):.4f}')\n",
    "print(f'Recall of the model for positive reviews: {recall_score(test_y, three_probas>=0.5, pos_label=1):.4f}')\n",
    "print(f'f1-score of the model for positive reviews: {f1_score(test_y, three_probas>=0.5, pos_label=1):.4f}')"
   ]
  },
  {
   "cell_type": "code",
   "execution_count": 24,
   "metadata": {},
   "outputs": [
    {
     "name": "stdout",
     "output_type": "stream",
     "text": [
      "Accuracy of the model: 0.9716\n",
      "Precision of the model for negative reviews: 0.9783\n",
      "Recall of the model for negative reviews: 0.9676\n",
      "f1-score of the model for negative reviews: 0.9729\n"
     ]
    }
   ],
   "source": [
    "print(f'Accuracy of the model: {accuracy_score(test_y, four_probas>=0.5):.4f}')\n",
    "print(f'Precision of the model for negative reviews: {precision_score(test_y, three_probas>=0.5, pos_label=0):.4f}')\n",
    "print(f'Recall of the model for negative reviews: {recall_score(test_y, three_probas>=0.5, pos_label=0):.4f}')\n",
    "print(f'f1-score of the model for negative reviews: {f1_score(test_y, three_probas>=0.5, pos_label=0):.4f}')"
   ]
  },
  {
   "cell_type": "code",
   "execution_count": 25,
   "metadata": {},
   "outputs": [],
   "source": [
    "#Positive reviews\n",
    "pos_pre_rec = pd.DataFrame({name: values for values, name in \n",
    "                            zip(precision_recall_curve(test_y, three_probas, pos_label=1)[:2],['precision','recall'])})\n",
    "#Negative reviews\n",
    "neg_pre_rec = pd.DataFrame({name: values for values, name in \n",
    "                            zip(precision_recall_curve(test_y, 1-three_probas, pos_label=0)[:2],['precision','recall'])})"
   ]
  },
  {
   "cell_type": "code",
   "execution_count": 26,
   "metadata": {},
   "outputs": [
    {
     "name": "stderr",
     "output_type": "stream",
     "text": [
      "C:\\Users\\Adrian\\Anaconda3\\envs\\my-pytorch-env\\lib\\site-packages\\scipy\\stats\\stats.py:1713: FutureWarning: Using a non-tuple sequence for multidimensional indexing is deprecated; use `arr[tuple(seq)]` instead of `arr[seq]`. In the future this will be interpreted as an array index, `arr[np.array(seq)]`, which will result either in an error or a different result.\n",
      "  return np.add.reduce(sorted[indexer] * weights, axis=axis) / sumval\n"
     ]
    },
    {
     "data": {
      "image/png": "[encoded data removed]",
      "text/plain": [
       "<Figure size 720x360 with 2 Axes>"
      ]
     },
     "metadata": {},
     "output_type": "display_data"
    }
   ],
   "source": [
    "plt.figure(num=1,figsize=(10,5))\n",
    "#Positive reviews\n",
    "ax = plt.subplot(1,2,1) \n",
    "sns.lineplot(x='recall',y='precision',data=pos_pre_rec,ax=ax,color='green', alpha=0.5)\n",
    "plt.fill_between(pos_pre_rec.recall.values, pos_pre_rec.precision.values, color='green', alpha=0.3)\n",
    "plt.title('Positive Class')\n",
    "plt.xlim(0,1)\n",
    "plt.ylim(0,1)\n",
    "#Negative reviews\n",
    "ax = plt.subplot(1,2,2) \n",
    "sns.lineplot(x='recall',y='precision',data=neg_pre_rec,ax=ax,color='red', alpha=0.5)\n",
    "plt.fill_between(neg_pre_rec.recall.values, neg_pre_rec.precision.values, color='red', alpha=0.3)\n",
    "plt.title('Negative Class')\n",
    "plt.xlim(0,1)\n",
    "plt.ylim(0,1);"
   ]
  },
  {
   "cell_type": "code",
   "execution_count": 27,
   "metadata": {},
   "outputs": [
    {
     "data": {
      "text/html": [
       "<div>\n",
       "<style scoped>\n",
       "    .dataframe tbody tr th:only-of-type {\n",
       "        vertical-align: middle;\n",
       "    }\n",
       "\n",
       "    .dataframe tbody tr th {\n",
       "        vertical-align: top;\n",
       "    }\n",
       "\n",
       "    .dataframe thead th {\n",
       "        text-align: right;\n",
       "    }\n",
       "</style>\n",
       "<table border=\"1\" class=\"dataframe\">\n",
       "  <thead>\n",
       "    <tr style=\"text-align: right;\">\n",
       "      <th></th>\n",
       "      <th>Stars</th>\n",
       "      <th>Avg Prob</th>\n",
       "      <th>Pos Revs</th>\n",
       "    </tr>\n",
       "  </thead>\n",
       "  <tbody>\n",
       "    <tr>\n",
       "      <th>0</th>\n",
       "      <td>1</td>\n",
       "      <td>0.173510</td>\n",
       "      <td>3.265631</td>\n",
       "    </tr>\n",
       "    <tr>\n",
       "      <th>1</th>\n",
       "      <td>2</td>\n",
       "      <td>0.181750</td>\n",
       "      <td>3.475239</td>\n",
       "    </tr>\n",
       "    <tr>\n",
       "      <th>2</th>\n",
       "      <td>3</td>\n",
       "      <td>0.177832</td>\n",
       "      <td>3.069658</td>\n",
       "    </tr>\n",
       "    <tr>\n",
       "      <th>3</th>\n",
       "      <td>4</td>\n",
       "      <td>0.174730</td>\n",
       "      <td>3.149905</td>\n",
       "    </tr>\n",
       "    <tr>\n",
       "      <th>4</th>\n",
       "      <td>7</td>\n",
       "      <td>0.843550</td>\n",
       "      <td>98.179454</td>\n",
       "    </tr>\n",
       "    <tr>\n",
       "      <th>5</th>\n",
       "      <td>8</td>\n",
       "      <td>0.838127</td>\n",
       "      <td>97.298246</td>\n",
       "    </tr>\n",
       "    <tr>\n",
       "      <th>6</th>\n",
       "      <td>9</td>\n",
       "      <td>0.838080</td>\n",
       "      <td>97.866894</td>\n",
       "    </tr>\n",
       "    <tr>\n",
       "      <th>7</th>\n",
       "      <td>10</td>\n",
       "      <td>0.845376</td>\n",
       "      <td>98.019604</td>\n",
       "    </tr>\n",
       "  </tbody>\n",
       "</table>\n",
       "</div>"
      ],
      "text/plain": [
       "   Stars  Avg Prob   Pos Revs\n",
       "0      1  0.173510   3.265631\n",
       "1      2  0.181750   3.475239\n",
       "2      3  0.177832   3.069658\n",
       "3      4  0.174730   3.149905\n",
       "4      7  0.843550  98.179454\n",
       "5      8  0.838127  97.298246\n",
       "6      9  0.838080  97.866894\n",
       "7     10  0.845376  98.019604"
      ]
     },
     "execution_count": 27,
     "metadata": {},
     "output_type": "execute_result"
    }
   ],
   "source": [
    "stars = np.unique(test_stars)\n",
    "stars.sort()\n",
    "my_df={'Stars': stars, \n",
    "       'Avg Prob':[three_probas[test_stars==i].mean() for i in stars],\n",
    "      'Pos Revs': [(three_probas[test_stars==i]>=0.5).mean()*100 for i in stars]}\n",
    "\n",
    "my_df = pd.DataFrame(my_df)\n",
    "my_df"
   ]
  },
  {
   "cell_type": "code",
   "execution_count": 28,
   "metadata": {},
   "outputs": [
    {
     "data": {
      "image/png": "[encoded data removed]",
      "text/plain": [
       "<Figure size 360x360 with 1 Axes>"
      ]
     },
     "metadata": {},
     "output_type": "display_data"
    }
   ],
   "source": [
    "plt.figure(num=2,figsize=(5,5))\n",
    "sns.barplot(x='Stars',y='Avg Prob',data=my_df)\n",
    "plt.title('Average Probability of Being Positive')\n",
    "plt.ylim(0,1);"
   ]
  },
  {
   "cell_type": "code",
   "execution_count": 29,
   "metadata": {},
   "outputs": [
    {
     "data": {
      "image/png": "[encoded data removed]",
      "text/plain": [
       "<Figure size 360x360 with 1 Axes>"
      ]
     },
     "metadata": {},
     "output_type": "display_data"
    }
   ],
   "source": [
    "plt.figure(num=3,figsize=(5,5))\n",
    "sns.barplot(x='Stars',y='Pos Revs',data=my_df)\n",
    "plt.title('Percentage of Predicted Positive Reviews')\n",
    "plt.ylim(0,100);"
   ]
  },
  {
   "cell_type": "code",
   "execution_count": null,
   "metadata": {},
   "outputs": [],
   "source": []
  }
 ],
 "metadata": {
  "kernelspec": {
   "display_name": "Python 3",
   "language": "python",
   "name": "python3"
  },
  "language_info": {
   "codemirror_mode": {
    "name": "ipython",
    "version": 3
   },
   "file_extension": ".py",
   "mimetype": "text/x-python",
   "name": "python",
   "nbconvert_exporter": "python",
   "pygments_lexer": "ipython3",
   "version": "3.6.6"
  }
 },
 "nbformat": 4,
 "nbformat_minor": 2
}
